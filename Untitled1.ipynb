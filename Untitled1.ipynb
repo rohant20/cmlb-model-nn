{
  "cells": [
    {
      "cell_type": "markdown",
      "metadata": {
        "id": "view-in-github",
        "colab_type": "text"
      },
      "source": [
        "<a href=\"https://colab.research.google.com/github/rohant20/cmlb-model-nn/blob/main/Untitled1.ipynb\" target=\"_parent\"><img src=\"https://colab.research.google.com/assets/colab-badge.svg\" alt=\"Open In Colab\"/></a>"
      ]
    },
    {
      "cell_type": "code",
      "execution_count": null,
      "metadata": {
        "colab": {
          "base_uri": "https://localhost:8080/"
        },
        "id": "ar3Z6svsUvGM",
        "outputId": "721dd773-ac9d-49a5-9efc-9c12e6b25757"
      },
      "outputs": [
        {
          "name": "stdout",
          "output_type": "stream",
          "text": [
            "Requirement already satisfied: shap in /usr/local/lib/python3.11/dist-packages (0.47.2)\n",
            "Requirement already satisfied: numpy in /usr/local/lib/python3.11/dist-packages (from shap) (2.0.2)\n",
            "Requirement already satisfied: scipy in /usr/local/lib/python3.11/dist-packages (from shap) (1.15.3)\n",
            "Requirement already satisfied: scikit-learn in /usr/local/lib/python3.11/dist-packages (from shap) (1.6.1)\n",
            "Requirement already satisfied: pandas in /usr/local/lib/python3.11/dist-packages (from shap) (2.2.2)\n",
            "Requirement already satisfied: tqdm>=4.27.0 in /usr/local/lib/python3.11/dist-packages (from shap) (4.67.1)\n",
            "Requirement already satisfied: packaging>20.9 in /usr/local/lib/python3.11/dist-packages (from shap) (24.2)\n",
            "Requirement already satisfied: slicer==0.0.8 in /usr/local/lib/python3.11/dist-packages (from shap) (0.0.8)\n",
            "Requirement already satisfied: numba>=0.54 in /usr/local/lib/python3.11/dist-packages (from shap) (0.60.0)\n",
            "Requirement already satisfied: cloudpickle in /usr/local/lib/python3.11/dist-packages (from shap) (3.1.1)\n",
            "Requirement already satisfied: typing-extensions in /usr/local/lib/python3.11/dist-packages (from shap) (4.14.0)\n",
            "Requirement already satisfied: llvmlite<0.44,>=0.43.0dev0 in /usr/local/lib/python3.11/dist-packages (from numba>=0.54->shap) (0.43.0)\n",
            "Requirement already satisfied: python-dateutil>=2.8.2 in /usr/local/lib/python3.11/dist-packages (from pandas->shap) (2.9.0.post0)\n",
            "Requirement already satisfied: pytz>=2020.1 in /usr/local/lib/python3.11/dist-packages (from pandas->shap) (2025.2)\n",
            "Requirement already satisfied: tzdata>=2022.7 in /usr/local/lib/python3.11/dist-packages (from pandas->shap) (2025.2)\n",
            "Requirement already satisfied: joblib>=1.2.0 in /usr/local/lib/python3.11/dist-packages (from scikit-learn->shap) (1.5.1)\n",
            "Requirement already satisfied: threadpoolctl>=3.1.0 in /usr/local/lib/python3.11/dist-packages (from scikit-learn->shap) (3.6.0)\n",
            "Requirement already satisfied: six>=1.5 in /usr/local/lib/python3.11/dist-packages (from python-dateutil>=2.8.2->pandas->shap) (1.17.0)\n"
          ]
        }
      ],
      "source": [
        "pip install shap"
      ]
    },
    {
      "cell_type": "code",
      "execution_count": null,
      "metadata": {
        "colab": {
          "background_save": true,
          "base_uri": "https://localhost:8080/"
        },
        "id": "XD9HleyCHlcD",
        "outputId": "e96290ea-fedc-4fd0-a4dd-f0c19c36ca8c"
      },
      "outputs": [
        {
          "name": "stdout",
          "output_type": "stream",
          "text": [
            "\n",
            "Training: Decision Tree\n",
            "\n",
            "Training: Logistic Regression\n"
          ]
        },
        {
          "name": "stderr",
          "output_type": "stream",
          "text": [
            "/usr/local/lib/python3.11/dist-packages/sklearn/linear_model/_logistic.py:465: ConvergenceWarning: lbfgs failed to converge (status=1):\n",
            "STOP: TOTAL NO. OF ITERATIONS REACHED LIMIT.\n",
            "\n",
            "Increase the number of iterations (max_iter) or scale the data as shown in:\n",
            "    https://scikit-learn.org/stable/modules/preprocessing.html\n",
            "Please also refer to the documentation for alternative solver options:\n",
            "    https://scikit-learn.org/stable/modules/linear_model.html#logistic-regression\n",
            "  n_iter_i = _check_optimize_result(\n",
            "/usr/local/lib/python3.11/dist-packages/sklearn/linear_model/_logistic.py:465: ConvergenceWarning: lbfgs failed to converge (status=1):\n",
            "STOP: TOTAL NO. OF ITERATIONS REACHED LIMIT.\n",
            "\n",
            "Increase the number of iterations (max_iter) or scale the data as shown in:\n",
            "    https://scikit-learn.org/stable/modules/preprocessing.html\n",
            "Please also refer to the documentation for alternative solver options:\n",
            "    https://scikit-learn.org/stable/modules/linear_model.html#logistic-regression\n",
            "  n_iter_i = _check_optimize_result(\n",
            "/usr/local/lib/python3.11/dist-packages/sklearn/linear_model/_logistic.py:465: ConvergenceWarning: lbfgs failed to converge (status=1):\n",
            "STOP: TOTAL NO. OF ITERATIONS REACHED LIMIT.\n",
            "\n",
            "Increase the number of iterations (max_iter) or scale the data as shown in:\n",
            "    https://scikit-learn.org/stable/modules/preprocessing.html\n",
            "Please also refer to the documentation for alternative solver options:\n",
            "    https://scikit-learn.org/stable/modules/linear_model.html#logistic-regression\n",
            "  n_iter_i = _check_optimize_result(\n",
            "/usr/local/lib/python3.11/dist-packages/sklearn/linear_model/_logistic.py:465: ConvergenceWarning: lbfgs failed to converge (status=1):\n",
            "STOP: TOTAL NO. OF ITERATIONS REACHED LIMIT.\n",
            "\n",
            "Increase the number of iterations (max_iter) or scale the data as shown in:\n",
            "    https://scikit-learn.org/stable/modules/preprocessing.html\n",
            "Please also refer to the documentation for alternative solver options:\n",
            "    https://scikit-learn.org/stable/modules/linear_model.html#logistic-regression\n",
            "  n_iter_i = _check_optimize_result(\n",
            "/usr/local/lib/python3.11/dist-packages/sklearn/linear_model/_logistic.py:465: ConvergenceWarning: lbfgs failed to converge (status=1):\n",
            "STOP: TOTAL NO. OF ITERATIONS REACHED LIMIT.\n",
            "\n",
            "Increase the number of iterations (max_iter) or scale the data as shown in:\n",
            "    https://scikit-learn.org/stable/modules/preprocessing.html\n",
            "Please also refer to the documentation for alternative solver options:\n",
            "    https://scikit-learn.org/stable/modules/linear_model.html#logistic-regression\n",
            "  n_iter_i = _check_optimize_result(\n"
          ]
        },
        {
          "name": "stdout",
          "output_type": "stream",
          "text": [
            "\n",
            "Training: Random Forest\n",
            "\n",
            "Training: XGBoost\n"
          ]
        },
        {
          "name": "stderr",
          "output_type": "stream",
          "text": [
            "/usr/local/lib/python3.11/dist-packages/xgboost/core.py:158: UserWarning: [02:16:43] WARNING: /workspace/src/learner.cc:740: \n",
            "Parameters: { \"use_label_encoder\" } are not used.\n",
            "\n",
            "  warnings.warn(smsg, UserWarning)\n",
            "/usr/local/lib/python3.11/dist-packages/xgboost/core.py:158: UserWarning: [02:16:46] WARNING: /workspace/src/learner.cc:740: \n",
            "Parameters: { \"use_label_encoder\" } are not used.\n",
            "\n",
            "  warnings.warn(smsg, UserWarning)\n",
            "/usr/local/lib/python3.11/dist-packages/xgboost/core.py:158: UserWarning: [02:16:47] WARNING: /workspace/src/learner.cc:740: \n",
            "Parameters: { \"use_label_encoder\" } are not used.\n",
            "\n",
            "  warnings.warn(smsg, UserWarning)\n",
            "/usr/local/lib/python3.11/dist-packages/xgboost/core.py:158: UserWarning: [02:16:48] WARNING: /workspace/src/learner.cc:740: \n",
            "Parameters: { \"use_label_encoder\" } are not used.\n",
            "\n",
            "  warnings.warn(smsg, UserWarning)\n",
            "/usr/local/lib/python3.11/dist-packages/xgboost/core.py:158: UserWarning: [02:16:48] WARNING: /workspace/src/learner.cc:740: \n",
            "Parameters: { \"use_label_encoder\" } are not used.\n",
            "\n",
            "  warnings.warn(smsg, UserWarning)\n"
          ]
        },
        {
          "name": "stdout",
          "output_type": "stream",
          "text": [
            "\n",
            "Training: LightGBM\n",
            "[LightGBM] [Info] Number of positive: 695, number of negative: 695\n",
            "[LightGBM] [Info] Auto-choosing row-wise multi-threading, the overhead of testing was 0.000689 seconds.\n",
            "You can set `force_row_wise=true` to remove the overhead.\n",
            "And if memory is not enough, you can set `force_col_wise=true`.\n",
            "[LightGBM] [Info] Total Bins 2332\n",
            "[LightGBM] [Info] Number of data points in the train set: 1390, number of used features: 37\n",
            "[LightGBM] [Info] [binary:BoostFromScore]: pavg=0.500000 -> initscore=0.000000\n",
            "[LightGBM] [Info] Number of positive: 695, number of negative: 695\n",
            "[LightGBM] [Info] Auto-choosing row-wise multi-threading, the overhead of testing was 0.000495 seconds.\n",
            "You can set `force_row_wise=true` to remove the overhead.\n",
            "And if memory is not enough, you can set `force_col_wise=true`.\n",
            "[LightGBM] [Info] Total Bins 2413\n",
            "[LightGBM] [Info] Number of data points in the train set: 1390, number of used features: 37\n",
            "[LightGBM] [Info] [binary:BoostFromScore]: pavg=0.500000 -> initscore=0.000000\n",
            "[LightGBM] [Info] Number of positive: 695, number of negative: 695\n",
            "[LightGBM] [Info] Auto-choosing row-wise multi-threading, the overhead of testing was 0.000461 seconds.\n",
            "You can set `force_row_wise=true` to remove the overhead.\n",
            "And if memory is not enough, you can set `force_col_wise=true`.\n",
            "[LightGBM] [Info] Total Bins 2319\n",
            "[LightGBM] [Info] Number of data points in the train set: 1390, number of used features: 37\n",
            "[LightGBM] [Info] [binary:BoostFromScore]: pavg=0.500000 -> initscore=0.000000\n",
            "[LightGBM] [Info] Number of positive: 696, number of negative: 695\n",
            "[LightGBM] [Info] Auto-choosing row-wise multi-threading, the overhead of testing was 0.000594 seconds.\n",
            "You can set `force_row_wise=true` to remove the overhead.\n",
            "And if memory is not enough, you can set `force_col_wise=true`.\n",
            "[LightGBM] [Info] Total Bins 2421\n",
            "[LightGBM] [Info] Number of data points in the train set: 1391, number of used features: 37\n",
            "[LightGBM] [Info] [binary:BoostFromScore]: pavg=0.500359 -> initscore=0.001438\n",
            "[LightGBM] [Info] Start training from score 0.001438\n",
            "[LightGBM] [Info] Number of positive: 695, number of negative: 696\n",
            "[LightGBM] [Info] Auto-choosing row-wise multi-threading, the overhead of testing was 0.000619 seconds.\n",
            "You can set `force_row_wise=true` to remove the overhead.\n",
            "And if memory is not enough, you can set `force_col_wise=true`.\n",
            "[LightGBM] [Info] Total Bins 2332\n",
            "[LightGBM] [Info] Number of data points in the train set: 1391, number of used features: 37\n",
            "[LightGBM] [Info] [binary:BoostFromScore]: pavg=0.499641 -> initscore=-0.001438\n",
            "[LightGBM] [Info] Start training from score -0.001438\n",
            "\n",
            "Training: ANN\n"
          ]
        },
        {
          "name": "stderr",
          "output_type": "stream",
          "text": [
            "/usr/local/lib/python3.11/dist-packages/keras/src/layers/core/dense.py:87: UserWarning: Do not pass an `input_shape`/`input_dim` argument to a layer. When using Sequential models, prefer using an `Input(shape)` object as the first layer in the model instead.\n",
            "  super().__init__(activity_regularizer=activity_regularizer, **kwargs)\n"
          ]
        },
        {
          "name": "stdout",
          "output_type": "stream",
          "text": [
            "\u001b[1m11/11\u001b[0m \u001b[32m━━━━━━━━━━━━━━━━━━━━\u001b[0m\u001b[37m\u001b[0m \u001b[1m0s\u001b[0m 7ms/step \n"
          ]
        },
        {
          "name": "stderr",
          "output_type": "stream",
          "text": [
            "/usr/local/lib/python3.11/dist-packages/keras/src/layers/core/dense.py:87: UserWarning: Do not pass an `input_shape`/`input_dim` argument to a layer. When using Sequential models, prefer using an `Input(shape)` object as the first layer in the model instead.\n",
            "  super().__init__(activity_regularizer=activity_regularizer, **kwargs)\n"
          ]
        },
        {
          "name": "stdout",
          "output_type": "stream",
          "text": [
            "\u001b[1m11/11\u001b[0m \u001b[32m━━━━━━━━━━━━━━━━━━━━\u001b[0m\u001b[37m\u001b[0m \u001b[1m0s\u001b[0m 11ms/step\n"
          ]
        },
        {
          "name": "stderr",
          "output_type": "stream",
          "text": [
            "/usr/local/lib/python3.11/dist-packages/keras/src/layers/core/dense.py:87: UserWarning: Do not pass an `input_shape`/`input_dim` argument to a layer. When using Sequential models, prefer using an `Input(shape)` object as the first layer in the model instead.\n",
            "  super().__init__(activity_regularizer=activity_regularizer, **kwargs)\n"
          ]
        },
        {
          "name": "stdout",
          "output_type": "stream",
          "text": [
            "\u001b[1m11/11\u001b[0m \u001b[32m━━━━━━━━━━━━━━━━━━━━\u001b[0m\u001b[37m\u001b[0m \u001b[1m0s\u001b[0m 6ms/step \n"
          ]
        },
        {
          "name": "stderr",
          "output_type": "stream",
          "text": [
            "/usr/local/lib/python3.11/dist-packages/keras/src/layers/core/dense.py:87: UserWarning: Do not pass an `input_shape`/`input_dim` argument to a layer. When using Sequential models, prefer using an `Input(shape)` object as the first layer in the model instead.\n",
            "  super().__init__(activity_regularizer=activity_regularizer, **kwargs)\n"
          ]
        },
        {
          "name": "stdout",
          "output_type": "stream",
          "text": [
            "\u001b[1m11/11\u001b[0m \u001b[32m━━━━━━━━━━━━━━━━━━━━\u001b[0m\u001b[37m\u001b[0m \u001b[1m0s\u001b[0m 17ms/step\n"
          ]
        },
        {
          "name": "stderr",
          "output_type": "stream",
          "text": [
            "/usr/local/lib/python3.11/dist-packages/keras/src/layers/core/dense.py:87: UserWarning: Do not pass an `input_shape`/`input_dim` argument to a layer. When using Sequential models, prefer using an `Input(shape)` object as the first layer in the model instead.\n",
            "  super().__init__(activity_regularizer=activity_regularizer, **kwargs)\n"
          ]
        },
        {
          "name": "stdout",
          "output_type": "stream",
          "text": [
            "\u001b[1m11/11\u001b[0m \u001b[32m━━━━━━━━━━━━━━━━━━━━\u001b[0m\u001b[37m\u001b[0m \u001b[1m0s\u001b[0m 6ms/step \n",
            "\n",
            "Model Performance Comparison (5-Fold CV):\n",
            "                     Accuracy  F1 Score  Sensitivity  Specificity     PPV  \\\n",
            "Decision Tree          0.8487    0.8477       0.8412       0.8561  0.8555   \n",
            "Logistic Regression    0.9125    0.9119       0.9057       0.9194  0.9184   \n",
            "Random Forest          0.8987    0.8976       0.8884       0.9091  0.9073   \n",
            "XGBoost                0.9051    0.9050       0.9045       0.9056  0.9062   \n",
            "LightGBM               0.9039    0.9041       0.9045       0.9033  0.9044   \n",
            "ANN                    0.8659    0.8614       0.8354       0.8964  0.8907   \n",
            "\n",
            "                        NPV   AUROC  Time (s)  \n",
            "Decision Tree        0.8440  0.8487    0.7615  \n",
            "Logistic Regression  0.9073  0.9731   13.6630  \n",
            "Random Forest        0.8910  0.9638    4.7927  \n",
            "XGBoost              0.9054  0.9706    6.1715  \n",
            "LightGBM             0.9046  0.9709    1.9456  \n",
            "ANN                  0.8461  0.9435   71.4818  \n",
            "\n",
            "Training: Decision Tree\n",
            "\n",
            "Training: Logistic Regression\n"
          ]
        },
        {
          "name": "stderr",
          "output_type": "stream",
          "text": [
            "/usr/local/lib/python3.11/dist-packages/sklearn/linear_model/_logistic.py:465: ConvergenceWarning: lbfgs failed to converge (status=1):\n",
            "STOP: TOTAL NO. OF ITERATIONS REACHED LIMIT.\n",
            "\n",
            "Increase the number of iterations (max_iter) or scale the data as shown in:\n",
            "    https://scikit-learn.org/stable/modules/preprocessing.html\n",
            "Please also refer to the documentation for alternative solver options:\n",
            "    https://scikit-learn.org/stable/modules/linear_model.html#logistic-regression\n",
            "  n_iter_i = _check_optimize_result(\n",
            "/usr/local/lib/python3.11/dist-packages/sklearn/linear_model/_logistic.py:465: ConvergenceWarning: lbfgs failed to converge (status=1):\n",
            "STOP: TOTAL NO. OF ITERATIONS REACHED LIMIT.\n",
            "\n",
            "Increase the number of iterations (max_iter) or scale the data as shown in:\n",
            "    https://scikit-learn.org/stable/modules/preprocessing.html\n",
            "Please also refer to the documentation for alternative solver options:\n",
            "    https://scikit-learn.org/stable/modules/linear_model.html#logistic-regression\n",
            "  n_iter_i = _check_optimize_result(\n",
            "/usr/local/lib/python3.11/dist-packages/sklearn/linear_model/_logistic.py:465: ConvergenceWarning: lbfgs failed to converge (status=1):\n",
            "STOP: TOTAL NO. OF ITERATIONS REACHED LIMIT.\n",
            "\n",
            "Increase the number of iterations (max_iter) or scale the data as shown in:\n",
            "    https://scikit-learn.org/stable/modules/preprocessing.html\n",
            "Please also refer to the documentation for alternative solver options:\n",
            "    https://scikit-learn.org/stable/modules/linear_model.html#logistic-regression\n",
            "  n_iter_i = _check_optimize_result(\n"
          ]
        },
        {
          "name": "stdout",
          "output_type": "stream",
          "text": [
            "\n",
            "Training: Random Forest\n",
            "\n",
            "Training: XGBoost\n"
          ]
        },
        {
          "name": "stderr",
          "output_type": "stream",
          "text": [
            "/usr/local/lib/python3.11/dist-packages/xgboost/core.py:158: UserWarning: [02:18:08] WARNING: /workspace/src/learner.cc:740: \n",
            "Parameters: { \"use_label_encoder\" } are not used.\n",
            "\n",
            "  warnings.warn(smsg, UserWarning)\n",
            "/usr/local/lib/python3.11/dist-packages/xgboost/core.py:158: UserWarning: [02:18:08] WARNING: /workspace/src/learner.cc:740: \n",
            "Parameters: { \"use_label_encoder\" } are not used.\n",
            "\n",
            "  warnings.warn(smsg, UserWarning)\n",
            "/usr/local/lib/python3.11/dist-packages/xgboost/core.py:158: UserWarning: [02:18:08] WARNING: /workspace/src/learner.cc:740: \n",
            "Parameters: { \"use_label_encoder\" } are not used.\n",
            "\n",
            "  warnings.warn(smsg, UserWarning)\n",
            "/usr/local/lib/python3.11/dist-packages/xgboost/core.py:158: UserWarning: [02:18:09] WARNING: /workspace/src/learner.cc:740: \n",
            "Parameters: { \"use_label_encoder\" } are not used.\n",
            "\n",
            "  warnings.warn(smsg, UserWarning)\n",
            "/usr/local/lib/python3.11/dist-packages/xgboost/core.py:158: UserWarning: [02:18:09] WARNING: /workspace/src/learner.cc:740: \n",
            "Parameters: { \"use_label_encoder\" } are not used.\n",
            "\n",
            "  warnings.warn(smsg, UserWarning)\n"
          ]
        },
        {
          "name": "stdout",
          "output_type": "stream",
          "text": [
            "\n",
            "Training: LightGBM\n",
            "[LightGBM] [Info] Number of positive: 695, number of negative: 695\n",
            "[LightGBM] [Info] Auto-choosing row-wise multi-threading, the overhead of testing was 0.000527 seconds.\n",
            "You can set `force_row_wise=true` to remove the overhead.\n",
            "And if memory is not enough, you can set `force_col_wise=true`.\n",
            "[LightGBM] [Info] Total Bins 2332\n",
            "[LightGBM] [Info] Number of data points in the train set: 1390, number of used features: 37\n",
            "[LightGBM] [Info] [binary:BoostFromScore]: pavg=0.500000 -> initscore=0.000000\n",
            "[LightGBM] [Info] Number of positive: 695, number of negative: 695\n",
            "[LightGBM] [Info] Auto-choosing row-wise multi-threading, the overhead of testing was 0.000383 seconds.\n",
            "You can set `force_row_wise=true` to remove the overhead.\n",
            "And if memory is not enough, you can set `force_col_wise=true`.\n",
            "[LightGBM] [Info] Total Bins 2413\n",
            "[LightGBM] [Info] Number of data points in the train set: 1390, number of used features: 37\n",
            "[LightGBM] [Info] [binary:BoostFromScore]: pavg=0.500000 -> initscore=0.000000\n",
            "[LightGBM] [Info] Number of positive: 695, number of negative: 695\n",
            "[LightGBM] [Info] Auto-choosing row-wise multi-threading, the overhead of testing was 0.000359 seconds.\n",
            "You can set `force_row_wise=true` to remove the overhead.\n",
            "And if memory is not enough, you can set `force_col_wise=true`.\n",
            "[LightGBM] [Info] Total Bins 2319\n",
            "[LightGBM] [Info] Number of data points in the train set: 1390, number of used features: 37\n",
            "[LightGBM] [Info] [binary:BoostFromScore]: pavg=0.500000 -> initscore=0.000000\n",
            "[LightGBM] [Info] Number of positive: 696, number of negative: 695\n",
            "[LightGBM] [Info] Auto-choosing row-wise multi-threading, the overhead of testing was 0.000399 seconds.\n",
            "You can set `force_row_wise=true` to remove the overhead.\n",
            "And if memory is not enough, you can set `force_col_wise=true`.\n",
            "[LightGBM] [Info] Total Bins 2421\n",
            "[LightGBM] [Info] Number of data points in the train set: 1391, number of used features: 37\n",
            "[LightGBM] [Info] [binary:BoostFromScore]: pavg=0.500359 -> initscore=0.001438\n",
            "[LightGBM] [Info] Start training from score 0.001438\n",
            "[LightGBM] [Info] Number of positive: 695, number of negative: 696\n",
            "[LightGBM] [Info] Auto-choosing row-wise multi-threading, the overhead of testing was 0.000335 seconds.\n",
            "You can set `force_row_wise=true` to remove the overhead.\n",
            "And if memory is not enough, you can set `force_col_wise=true`.\n",
            "[LightGBM] [Info] Total Bins 2332\n",
            "[LightGBM] [Info] Number of data points in the train set: 1391, number of used features: 37\n",
            "[LightGBM] [Info] [binary:BoostFromScore]: pavg=0.499641 -> initscore=-0.001438\n",
            "[LightGBM] [Info] Start training from score -0.001438\n",
            "\n",
            "Training: ANN\n"
          ]
        },
        {
          "name": "stderr",
          "output_type": "stream",
          "text": [
            "/usr/local/lib/python3.11/dist-packages/keras/src/layers/core/dense.py:87: UserWarning: Do not pass an `input_shape`/`input_dim` argument to a layer. When using Sequential models, prefer using an `Input(shape)` object as the first layer in the model instead.\n",
            "  super().__init__(activity_regularizer=activity_regularizer, **kwargs)\n"
          ]
        },
        {
          "name": "stdout",
          "output_type": "stream",
          "text": [
            "\u001b[1m11/11\u001b[0m \u001b[32m━━━━━━━━━━━━━━━━━━━━\u001b[0m\u001b[37m\u001b[0m \u001b[1m0s\u001b[0m 7ms/step \n"
          ]
        },
        {
          "name": "stderr",
          "output_type": "stream",
          "text": [
            "/usr/local/lib/python3.11/dist-packages/keras/src/layers/core/dense.py:87: UserWarning: Do not pass an `input_shape`/`input_dim` argument to a layer. When using Sequential models, prefer using an `Input(shape)` object as the first layer in the model instead.\n",
            "  super().__init__(activity_regularizer=activity_regularizer, **kwargs)\n"
          ]
        },
        {
          "name": "stdout",
          "output_type": "stream",
          "text": [
            "\u001b[1m11/11\u001b[0m \u001b[32m━━━━━━━━━━━━━━━━━━━━\u001b[0m\u001b[37m\u001b[0m \u001b[1m0s\u001b[0m 7ms/step \n"
          ]
        },
        {
          "name": "stderr",
          "output_type": "stream",
          "text": [
            "/usr/local/lib/python3.11/dist-packages/keras/src/layers/core/dense.py:87: UserWarning: Do not pass an `input_shape`/`input_dim` argument to a layer. When using Sequential models, prefer using an `Input(shape)` object as the first layer in the model instead.\n",
            "  super().__init__(activity_regularizer=activity_regularizer, **kwargs)\n"
          ]
        },
        {
          "name": "stdout",
          "output_type": "stream",
          "text": [
            "\u001b[1m11/11\u001b[0m \u001b[32m━━━━━━━━━━━━━━━━━━━━\u001b[0m\u001b[37m\u001b[0m \u001b[1m0s\u001b[0m 6ms/step \n"
          ]
        },
        {
          "name": "stderr",
          "output_type": "stream",
          "text": [
            "/usr/local/lib/python3.11/dist-packages/keras/src/layers/core/dense.py:87: UserWarning: Do not pass an `input_shape`/`input_dim` argument to a layer. When using Sequential models, prefer using an `Input(shape)` object as the first layer in the model instead.\n",
            "  super().__init__(activity_regularizer=activity_regularizer, **kwargs)\n"
          ]
        },
        {
          "name": "stdout",
          "output_type": "stream",
          "text": [
            "\u001b[1m11/11\u001b[0m \u001b[32m━━━━━━━━━━━━━━━━━━━━\u001b[0m\u001b[37m\u001b[0m \u001b[1m0s\u001b[0m 7ms/step\n"
          ]
        },
        {
          "name": "stderr",
          "output_type": "stream",
          "text": [
            "/usr/local/lib/python3.11/dist-packages/keras/src/layers/core/dense.py:87: UserWarning: Do not pass an `input_shape`/`input_dim` argument to a layer. When using Sequential models, prefer using an `Input(shape)` object as the first layer in the model instead.\n",
            "  super().__init__(activity_regularizer=activity_regularizer, **kwargs)\n"
          ]
        },
        {
          "name": "stdout",
          "output_type": "stream",
          "text": [
            "\u001b[1m11/11\u001b[0m \u001b[32m━━━━━━━━━━━━━━━━━━━━\u001b[0m\u001b[37m\u001b[0m \u001b[1m0s\u001b[0m 7ms/step\n",
            "\n",
            "Model Performance (Average over 5 folds):\n",
            "                     Accuracy  F1 Score  Sensitivity  Specificity     PPV  \\\n",
            "Decision Tree          0.8579    0.8580       0.8574       0.8584  0.8596   \n",
            "Logistic Regression    0.9125    0.9119       0.9057       0.9194  0.9184   \n",
            "Random Forest          0.8953    0.8949       0.8919       0.8987  0.8984   \n",
            "XGBoost                0.9051    0.9050       0.9045       0.9056  0.9062   \n",
            "LightGBM               0.9039    0.9041       0.9045       0.9033  0.9044   \n",
            "ANN                    0.8705    0.8708       0.8711       0.8699  0.8709   \n",
            "\n",
            "                        NPV   AUROC  Time (s)  \n",
            "Decision Tree        0.8578  0.8579    0.2219  \n",
            "Logistic Regression  0.9073  0.9731    2.3942  \n",
            "Random Forest        0.8929  0.9645    2.8470  \n",
            "XGBoost              0.9054  0.9706    1.1563  \n",
            "LightGBM             0.9046  0.9709    1.0297  \n",
            "ANN                  0.8710  0.9436   62.8027  \n",
            "\n",
            "Detailed results for Decision Tree:\n",
            "   Fold  Accuracy  F1 Score  Sensitivity  Specificity     PPV     NPV   AUROC\n",
            "0     1    0.8793    0.8765       0.8563       0.9023  0.8976  0.8626  0.8793\n",
            "1     2    0.8707    0.8680       0.8506       0.8908  0.8862  0.8564  0.8707\n",
            "2     3    0.8592    0.8571       0.8448       0.8736  0.8698  0.8492  0.8592\n",
            "3     4    0.8646    0.8691       0.9017       0.8276  0.8387  0.8944  0.8647\n",
            "4     5    0.8156    0.8192       0.8333       0.7977  0.8056  0.8263  0.8155\n",
            "\n",
            "Detailed results for Logistic Regression:\n",
            "   Fold  Accuracy  F1 Score  Sensitivity  Specificity     PPV     NPV   AUROC\n",
            "0     1    0.9109    0.9101       0.9023       0.9195  0.9181  0.9040  0.9701\n",
            "1     2    0.9080    0.9064       0.8908       0.9253  0.9226  0.8944  0.9659\n",
            "2     3    0.9253    0.9244       0.9138       0.9368  0.9353  0.9157  0.9805\n",
            "3     4    0.9280    0.9288       0.9422       0.9138  0.9157  0.9408  0.9835\n",
            "4     5    0.8905    0.8895       0.8793       0.9017  0.9000  0.8814  0.9656\n",
            "\n",
            "Detailed results for Random Forest:\n",
            "   Fold  Accuracy  F1 Score  Sensitivity  Specificity     PPV     NPV   AUROC\n",
            "0     1    0.9109    0.9091       0.8908       0.9310  0.9281  0.8950  0.9732\n",
            "1     2    0.8822    0.8798       0.8621       0.9023  0.8982  0.8674  0.9553\n",
            "2     3    0.9080    0.9080       0.9080       0.9080  0.9080  0.9080  0.9726\n",
            "3     4    0.9049    0.9065       0.9249       0.8851  0.8889  0.9222  0.9750\n",
            "4     5    0.8703    0.8711       0.8736       0.8671  0.8686  0.8721  0.9463\n",
            "\n",
            "Detailed results for XGBoost:\n",
            "   Fold  Accuracy  F1 Score  Sensitivity  Specificity     PPV     NPV   AUROC\n",
            "0     1    0.9195    0.9172       0.8908       0.9483  0.9451  0.8967  0.9746\n",
            "1     2    0.9138    0.9138       0.9138       0.9138  0.9138  0.9138  0.9665\n",
            "2     3    0.8994    0.8986       0.8908       0.9080  0.9064  0.8927  0.9784\n",
            "3     4    0.9164    0.9192       0.9538       0.8793  0.8871  0.9503  0.9787\n",
            "4     5    0.8761    0.8761       0.8736       0.8786  0.8786  0.8736  0.9547\n",
            "\n",
            "Detailed results for LightGBM:\n",
            "   Fold  Accuracy  F1 Score  Sensitivity  Specificity     PPV     NPV   AUROC\n",
            "0     1    0.9109    0.9086       0.8851       0.9368  0.9333  0.8907  0.9712\n",
            "1     2    0.9138    0.9128       0.9023       0.9253  0.9235  0.9045  0.9705\n",
            "2     3    0.9080    0.9075       0.9023       0.9138  0.9128  0.9034  0.9777\n",
            "3     4    0.9164    0.9178       0.9364       0.8966  0.9000  0.9341  0.9806\n",
            "4     5    0.8703    0.8739       0.8966       0.8439  0.8525  0.8902  0.9547\n",
            "\n",
            "Detailed results for ANN:\n",
            "   Fold  Accuracy  F1 Score  Sensitivity  Specificity     PPV     NPV   AUROC\n",
            "0     1    0.8822    0.8791       0.8563       0.9080  0.9030  0.8634  0.9503\n",
            "1     2    0.8678    0.8678       0.8678       0.8678  0.8678  0.8678  0.9358\n",
            "2     3    0.8764    0.8761       0.8736       0.8793  0.8786  0.8743  0.9538\n",
            "3     4    0.8790    0.8793       0.8844       0.8736  0.8743  0.8837  0.9493\n",
            "4     5    0.8473    0.8515       0.8736       0.8208  0.8306  0.8659  0.9288\n",
            "\n",
            "Training model: Decision Tree\n",
            "\n",
            "Training model: Logistic Regression\n"
          ]
        },
        {
          "name": "stderr",
          "output_type": "stream",
          "text": [
            "/usr/local/lib/python3.11/dist-packages/sklearn/linear_model/_logistic.py:465: ConvergenceWarning: lbfgs failed to converge (status=1):\n",
            "STOP: TOTAL NO. OF ITERATIONS REACHED LIMIT.\n",
            "\n",
            "Increase the number of iterations (max_iter) or scale the data as shown in:\n",
            "    https://scikit-learn.org/stable/modules/preprocessing.html\n",
            "Please also refer to the documentation for alternative solver options:\n",
            "    https://scikit-learn.org/stable/modules/linear_model.html#logistic-regression\n",
            "  n_iter_i = _check_optimize_result(\n",
            "/usr/local/lib/python3.11/dist-packages/sklearn/linear_model/_logistic.py:465: ConvergenceWarning: lbfgs failed to converge (status=1):\n",
            "STOP: TOTAL NO. OF ITERATIONS REACHED LIMIT.\n",
            "\n",
            "Increase the number of iterations (max_iter) or scale the data as shown in:\n",
            "    https://scikit-learn.org/stable/modules/preprocessing.html\n",
            "Please also refer to the documentation for alternative solver options:\n",
            "    https://scikit-learn.org/stable/modules/linear_model.html#logistic-regression\n",
            "  n_iter_i = _check_optimize_result(\n",
            "/usr/local/lib/python3.11/dist-packages/sklearn/linear_model/_logistic.py:465: ConvergenceWarning: lbfgs failed to converge (status=1):\n",
            "STOP: TOTAL NO. OF ITERATIONS REACHED LIMIT.\n",
            "\n",
            "Increase the number of iterations (max_iter) or scale the data as shown in:\n",
            "    https://scikit-learn.org/stable/modules/preprocessing.html\n",
            "Please also refer to the documentation for alternative solver options:\n",
            "    https://scikit-learn.org/stable/modules/linear_model.html#logistic-regression\n",
            "  n_iter_i = _check_optimize_result(\n",
            "/usr/local/lib/python3.11/dist-packages/sklearn/linear_model/_logistic.py:465: ConvergenceWarning: lbfgs failed to converge (status=1):\n",
            "STOP: TOTAL NO. OF ITERATIONS REACHED LIMIT.\n",
            "\n",
            "Increase the number of iterations (max_iter) or scale the data as shown in:\n",
            "    https://scikit-learn.org/stable/modules/preprocessing.html\n",
            "Please also refer to the documentation for alternative solver options:\n",
            "    https://scikit-learn.org/stable/modules/linear_model.html#logistic-regression\n",
            "  n_iter_i = _check_optimize_result(\n",
            "/usr/local/lib/python3.11/dist-packages/sklearn/linear_model/_logistic.py:465: ConvergenceWarning: lbfgs failed to converge (status=1):\n",
            "STOP: TOTAL NO. OF ITERATIONS REACHED LIMIT.\n",
            "\n",
            "Increase the number of iterations (max_iter) or scale the data as shown in:\n",
            "    https://scikit-learn.org/stable/modules/preprocessing.html\n",
            "Please also refer to the documentation for alternative solver options:\n",
            "    https://scikit-learn.org/stable/modules/linear_model.html#logistic-regression\n",
            "  n_iter_i = _check_optimize_result(\n"
          ]
        },
        {
          "name": "stdout",
          "output_type": "stream",
          "text": [
            "\n",
            "Training model: Random Forest\n",
            "\n",
            "Training model: XGBoost\n"
          ]
        },
        {
          "name": "stderr",
          "output_type": "stream",
          "text": [
            "/usr/local/lib/python3.11/dist-packages/xgboost/core.py:158: UserWarning: [02:19:21] WARNING: /workspace/src/learner.cc:740: \n",
            "Parameters: { \"use_label_encoder\" } are not used.\n",
            "\n",
            "  warnings.warn(smsg, UserWarning)\n",
            "/usr/local/lib/python3.11/dist-packages/xgboost/core.py:158: UserWarning: [02:19:21] WARNING: /workspace/src/learner.cc:740: \n",
            "Parameters: { \"use_label_encoder\" } are not used.\n",
            "\n",
            "  warnings.warn(smsg, UserWarning)\n",
            "/usr/local/lib/python3.11/dist-packages/xgboost/core.py:158: UserWarning: [02:19:21] WARNING: /workspace/src/learner.cc:740: \n",
            "Parameters: { \"use_label_encoder\" } are not used.\n",
            "\n",
            "  warnings.warn(smsg, UserWarning)\n",
            "/usr/local/lib/python3.11/dist-packages/xgboost/core.py:158: UserWarning: [02:19:22] WARNING: /workspace/src/learner.cc:740: \n",
            "Parameters: { \"use_label_encoder\" } are not used.\n",
            "\n",
            "  warnings.warn(smsg, UserWarning)\n",
            "/usr/local/lib/python3.11/dist-packages/xgboost/core.py:158: UserWarning: [02:19:22] WARNING: /workspace/src/learner.cc:740: \n",
            "Parameters: { \"use_label_encoder\" } are not used.\n",
            "\n",
            "  warnings.warn(smsg, UserWarning)\n"
          ]
        },
        {
          "name": "stdout",
          "output_type": "stream",
          "text": [
            "\n",
            "Training model: LightGBM\n",
            "[LightGBM] [Info] Number of positive: 695, number of negative: 695\n",
            "[LightGBM] [Info] Auto-choosing row-wise multi-threading, the overhead of testing was 0.000365 seconds.\n",
            "You can set `force_row_wise=true` to remove the overhead.\n",
            "And if memory is not enough, you can set `force_col_wise=true`.\n",
            "[LightGBM] [Info] Total Bins 2332\n",
            "[LightGBM] [Info] Number of data points in the train set: 1390, number of used features: 37\n",
            "[LightGBM] [Info] [binary:BoostFromScore]: pavg=0.500000 -> initscore=0.000000\n",
            "[LightGBM] [Info] Number of positive: 695, number of negative: 695\n",
            "[LightGBM] [Info] Auto-choosing row-wise multi-threading, the overhead of testing was 0.000379 seconds.\n",
            "You can set `force_row_wise=true` to remove the overhead.\n",
            "And if memory is not enough, you can set `force_col_wise=true`.\n",
            "[LightGBM] [Info] Total Bins 2413\n",
            "[LightGBM] [Info] Number of data points in the train set: 1390, number of used features: 37\n",
            "[LightGBM] [Info] [binary:BoostFromScore]: pavg=0.500000 -> initscore=0.000000\n",
            "[LightGBM] [Info] Number of positive: 695, number of negative: 695\n",
            "[LightGBM] [Info] Auto-choosing row-wise multi-threading, the overhead of testing was 0.000352 seconds.\n",
            "You can set `force_row_wise=true` to remove the overhead.\n",
            "And if memory is not enough, you can set `force_col_wise=true`.\n",
            "[LightGBM] [Info] Total Bins 2319\n",
            "[LightGBM] [Info] Number of data points in the train set: 1390, number of used features: 37\n",
            "[LightGBM] [Info] [binary:BoostFromScore]: pavg=0.500000 -> initscore=0.000000\n",
            "[LightGBM] [Info] Number of positive: 696, number of negative: 695\n",
            "[LightGBM] [Info] Auto-choosing row-wise multi-threading, the overhead of testing was 0.000396 seconds.\n",
            "You can set `force_row_wise=true` to remove the overhead.\n",
            "And if memory is not enough, you can set `force_col_wise=true`.\n",
            "[LightGBM] [Info] Total Bins 2421\n",
            "[LightGBM] [Info] Number of data points in the train set: 1391, number of used features: 37\n",
            "[LightGBM] [Info] [binary:BoostFromScore]: pavg=0.500359 -> initscore=0.001438\n",
            "[LightGBM] [Info] Start training from score 0.001438\n",
            "[LightGBM] [Info] Number of positive: 695, number of negative: 696\n",
            "[LightGBM] [Info] Auto-choosing row-wise multi-threading, the overhead of testing was 0.000358 seconds.\n",
            "You can set `force_row_wise=true` to remove the overhead.\n",
            "And if memory is not enough, you can set `force_col_wise=true`.\n",
            "[LightGBM] [Info] Total Bins 2332\n",
            "[LightGBM] [Info] Number of data points in the train set: 1391, number of used features: 37\n",
            "[LightGBM] [Info] [binary:BoostFromScore]: pavg=0.499641 -> initscore=-0.001438\n",
            "[LightGBM] [Info] Start training from score -0.001438\n",
            "\n",
            "Training model: ANN\n"
          ]
        },
        {
          "name": "stderr",
          "output_type": "stream",
          "text": [
            "/usr/local/lib/python3.11/dist-packages/keras/src/layers/core/dense.py:87: UserWarning: Do not pass an `input_shape`/`input_dim` argument to a layer. When using Sequential models, prefer using an `Input(shape)` object as the first layer in the model instead.\n",
            "  super().__init__(activity_regularizer=activity_regularizer, **kwargs)\n"
          ]
        },
        {
          "name": "stdout",
          "output_type": "stream",
          "text": [
            "\u001b[1m11/11\u001b[0m \u001b[32m━━━━━━━━━━━━━━━━━━━━\u001b[0m\u001b[37m\u001b[0m \u001b[1m0s\u001b[0m 20ms/step\n"
          ]
        },
        {
          "name": "stderr",
          "output_type": "stream",
          "text": [
            "/usr/local/lib/python3.11/dist-packages/keras/src/layers/core/dense.py:87: UserWarning: Do not pass an `input_shape`/`input_dim` argument to a layer. When using Sequential models, prefer using an `Input(shape)` object as the first layer in the model instead.\n",
            "  super().__init__(activity_regularizer=activity_regularizer, **kwargs)\n"
          ]
        },
        {
          "name": "stdout",
          "output_type": "stream",
          "text": [
            "\u001b[1m11/11\u001b[0m \u001b[32m━━━━━━━━━━━━━━━━━━━━\u001b[0m\u001b[37m\u001b[0m \u001b[1m0s\u001b[0m 19ms/step\n"
          ]
        },
        {
          "name": "stderr",
          "output_type": "stream",
          "text": [
            "/usr/local/lib/python3.11/dist-packages/keras/src/layers/core/dense.py:87: UserWarning: Do not pass an `input_shape`/`input_dim` argument to a layer. When using Sequential models, prefer using an `Input(shape)` object as the first layer in the model instead.\n",
            "  super().__init__(activity_regularizer=activity_regularizer, **kwargs)\n"
          ]
        },
        {
          "name": "stdout",
          "output_type": "stream",
          "text": [
            "\u001b[1m11/11\u001b[0m \u001b[32m━━━━━━━━━━━━━━━━━━━━\u001b[0m\u001b[37m\u001b[0m \u001b[1m0s\u001b[0m 7ms/step \n"
          ]
        },
        {
          "name": "stderr",
          "output_type": "stream",
          "text": [
            "/usr/local/lib/python3.11/dist-packages/keras/src/layers/core/dense.py:87: UserWarning: Do not pass an `input_shape`/`input_dim` argument to a layer. When using Sequential models, prefer using an `Input(shape)` object as the first layer in the model instead.\n",
            "  super().__init__(activity_regularizer=activity_regularizer, **kwargs)\n"
          ]
        },
        {
          "name": "stdout",
          "output_type": "stream",
          "text": [
            "\u001b[1m11/11\u001b[0m \u001b[32m━━━━━━━━━━━━━━━━━━━━\u001b[0m\u001b[37m\u001b[0m \u001b[1m0s\u001b[0m 9ms/step\n"
          ]
        },
        {
          "name": "stderr",
          "output_type": "stream",
          "text": [
            "/usr/local/lib/python3.11/dist-packages/keras/src/layers/core/dense.py:87: UserWarning: Do not pass an `input_shape`/`input_dim` argument to a layer. When using Sequential models, prefer using an `Input(shape)` object as the first layer in the model instead.\n",
            "  super().__init__(activity_regularizer=activity_regularizer, **kwargs)\n"
          ]
        },
        {
          "name": "stdout",
          "output_type": "stream",
          "text": [
            "\u001b[1m11/11\u001b[0m \u001b[32m━━━━━━━━━━━━━━━━━━━━\u001b[0m\u001b[37m\u001b[0m \u001b[1m1s\u001b[0m 29ms/step\n",
            "\n",
            "Average performance across 5 folds:\n",
            "                     Accuracy  F1 Score  Sensitivity  Specificity     PPV  \\\n",
            "Decision Tree          0.8544    0.8545       0.8539       0.8549  0.8564   \n",
            "Logistic Regression    0.9125    0.9119       0.9057       0.9194  0.9184   \n",
            "Random Forest          0.8970    0.8968       0.8942       0.8998  0.8999   \n",
            "XGBoost                0.9051    0.9050       0.9045       0.9056  0.9062   \n",
            "LightGBM               0.9039    0.9041       0.9045       0.9033  0.9044   \n",
            "ANN                    0.8723    0.8699       0.8573       0.8872  0.8844   \n",
            "\n",
            "                        NPV   AUROC  Running Time (s)  \n",
            "Decision Tree        0.8547  0.8544            0.3456  \n",
            "Logistic Regression  0.9073  0.9731            4.7793  \n",
            "Random Forest        0.8950  0.9649            2.8760  \n",
            "XGBoost              0.9054  0.9706            1.1975  \n",
            "LightGBM             0.9046  0.9709            1.0994  \n",
            "ANN                  0.8630  0.9457           65.2257  \n",
            "\n",
            "Training model: Decision Tree\n",
            "\n",
            "Training model: Logistic Regression\n"
          ]
        },
        {
          "name": "stderr",
          "output_type": "stream",
          "text": [
            "/usr/local/lib/python3.11/dist-packages/sklearn/linear_model/_logistic.py:465: ConvergenceWarning: lbfgs failed to converge (status=1):\n",
            "STOP: TOTAL NO. OF ITERATIONS REACHED LIMIT.\n",
            "\n",
            "Increase the number of iterations (max_iter) or scale the data as shown in:\n",
            "    https://scikit-learn.org/stable/modules/preprocessing.html\n",
            "Please also refer to the documentation for alternative solver options:\n",
            "    https://scikit-learn.org/stable/modules/linear_model.html#logistic-regression\n",
            "  n_iter_i = _check_optimize_result(\n",
            "/usr/local/lib/python3.11/dist-packages/sklearn/linear_model/_logistic.py:465: ConvergenceWarning: lbfgs failed to converge (status=1):\n",
            "STOP: TOTAL NO. OF ITERATIONS REACHED LIMIT.\n",
            "\n",
            "Increase the number of iterations (max_iter) or scale the data as shown in:\n",
            "    https://scikit-learn.org/stable/modules/preprocessing.html\n",
            "Please also refer to the documentation for alternative solver options:\n",
            "    https://scikit-learn.org/stable/modules/linear_model.html#logistic-regression\n",
            "  n_iter_i = _check_optimize_result(\n",
            "/usr/local/lib/python3.11/dist-packages/sklearn/linear_model/_logistic.py:465: ConvergenceWarning: lbfgs failed to converge (status=1):\n",
            "STOP: TOTAL NO. OF ITERATIONS REACHED LIMIT.\n",
            "\n",
            "Increase the number of iterations (max_iter) or scale the data as shown in:\n",
            "    https://scikit-learn.org/stable/modules/preprocessing.html\n",
            "Please also refer to the documentation for alternative solver options:\n",
            "    https://scikit-learn.org/stable/modules/linear_model.html#logistic-regression\n",
            "  n_iter_i = _check_optimize_result(\n",
            "/usr/local/lib/python3.11/dist-packages/sklearn/linear_model/_logistic.py:465: ConvergenceWarning: lbfgs failed to converge (status=1):\n",
            "STOP: TOTAL NO. OF ITERATIONS REACHED LIMIT.\n",
            "\n",
            "Increase the number of iterations (max_iter) or scale the data as shown in:\n",
            "    https://scikit-learn.org/stable/modules/preprocessing.html\n",
            "Please also refer to the documentation for alternative solver options:\n",
            "    https://scikit-learn.org/stable/modules/linear_model.html#logistic-regression\n",
            "  n_iter_i = _check_optimize_result(\n",
            "/usr/local/lib/python3.11/dist-packages/sklearn/linear_model/_logistic.py:465: ConvergenceWarning: lbfgs failed to converge (status=1):\n",
            "STOP: TOTAL NO. OF ITERATIONS REACHED LIMIT.\n",
            "\n",
            "Increase the number of iterations (max_iter) or scale the data as shown in:\n",
            "    https://scikit-learn.org/stable/modules/preprocessing.html\n",
            "Please also refer to the documentation for alternative solver options:\n",
            "    https://scikit-learn.org/stable/modules/linear_model.html#logistic-regression\n",
            "  n_iter_i = _check_optimize_result(\n"
          ]
        },
        {
          "name": "stdout",
          "output_type": "stream",
          "text": [
            "\n",
            "Training model: Random Forest\n",
            "\n",
            "Training model: XGBoost\n"
          ]
        },
        {
          "name": "stderr",
          "output_type": "stream",
          "text": [
            "/usr/local/lib/python3.11/dist-packages/xgboost/core.py:158: UserWarning: [02:20:38] WARNING: /workspace/src/learner.cc:740: \n",
            "Parameters: { \"use_label_encoder\" } are not used.\n",
            "\n",
            "  warnings.warn(smsg, UserWarning)\n",
            "/usr/local/lib/python3.11/dist-packages/xgboost/core.py:158: UserWarning: [02:20:38] WARNING: /workspace/src/learner.cc:740: \n",
            "Parameters: { \"use_label_encoder\" } are not used.\n",
            "\n",
            "  warnings.warn(smsg, UserWarning)\n",
            "/usr/local/lib/python3.11/dist-packages/xgboost/core.py:158: UserWarning: [02:20:39] WARNING: /workspace/src/learner.cc:740: \n",
            "Parameters: { \"use_label_encoder\" } are not used.\n",
            "\n",
            "  warnings.warn(smsg, UserWarning)\n",
            "/usr/local/lib/python3.11/dist-packages/xgboost/core.py:158: UserWarning: [02:20:39] WARNING: /workspace/src/learner.cc:740: \n",
            "Parameters: { \"use_label_encoder\" } are not used.\n",
            "\n",
            "  warnings.warn(smsg, UserWarning)\n"
          ]
        },
        {
          "name": "stdout",
          "output_type": "stream",
          "text": [
            "\n",
            "Training model: LightGBM\n",
            "[LightGBM] [Info] Number of positive: 695, number of negative: 695\n",
            "[LightGBM] [Info] Auto-choosing row-wise multi-threading, the overhead of testing was 0.000363 seconds.\n",
            "You can set `force_row_wise=true` to remove the overhead.\n",
            "And if memory is not enough, you can set `force_col_wise=true`.\n",
            "[LightGBM] [Info] Total Bins 2332\n",
            "[LightGBM] [Info] Number of data points in the train set: 1390, number of used features: 37\n",
            "[LightGBM] [Info] [binary:BoostFromScore]: pavg=0.500000 -> initscore=0.000000\n",
            "[LightGBM] [Info] Number of positive: 695, number of negative: 695\n",
            "[LightGBM] [Info] Auto-choosing row-wise multi-threading, the overhead of testing was 0.000390 seconds.\n",
            "You can set `force_row_wise=true` to remove the overhead.\n",
            "And if memory is not enough, you can set `force_col_wise=true`.\n",
            "[LightGBM] [Info] Total Bins 2413\n",
            "[LightGBM] [Info] Number of data points in the train set: 1390, number of used features: 37\n",
            "[LightGBM] [Info] [binary:BoostFromScore]: pavg=0.500000 -> initscore=0.000000\n",
            "[LightGBM] [Info] Number of positive: 695, number of negative: 695\n",
            "[LightGBM] [Info] Auto-choosing row-wise multi-threading, the overhead of testing was 0.000366 seconds.\n",
            "You can set `force_row_wise=true` to remove the overhead.\n",
            "And if memory is not enough, you can set `force_col_wise=true`.\n",
            "[LightGBM] [Info] Total Bins 2319\n",
            "[LightGBM] [Info] Number of data points in the train set: 1390, number of used features: 37\n",
            "[LightGBM] [Info] [binary:BoostFromScore]: pavg=0.500000 -> initscore=0.000000\n",
            "[LightGBM] [Info] Number of positive: 696, number of negative: 695\n",
            "[LightGBM] [Info] Auto-choosing row-wise multi-threading, the overhead of testing was 0.000398 seconds.\n",
            "You can set `force_row_wise=true` to remove the overhead.\n",
            "And if memory is not enough, you can set `force_col_wise=true`.\n",
            "[LightGBM] [Info] Total Bins 2421\n",
            "[LightGBM] [Info] Number of data points in the train set: 1391, number of used features: 37\n",
            "[LightGBM] [Info] [binary:BoostFromScore]: pavg=0.500359 -> initscore=0.001438\n",
            "[LightGBM] [Info] Start training from score 0.001438\n",
            "[LightGBM] [Info] Number of positive: 695, number of negative: 696\n",
            "[LightGBM] [Info] Auto-choosing row-wise multi-threading, the overhead of testing was 0.000394 seconds.\n",
            "You can set `force_row_wise=true` to remove the overhead.\n",
            "And if memory is not enough, you can set `force_col_wise=true`.\n",
            "[LightGBM] [Info] Total Bins 2332\n",
            "[LightGBM] [Info] Number of data points in the train set: 1391, number of used features: 37\n",
            "[LightGBM] [Info] [binary:BoostFromScore]: pavg=0.499641 -> initscore=-0.001438\n",
            "[LightGBM] [Info] Start training from score -0.001438\n",
            "\n",
            "Training model: ANN\n"
          ]
        },
        {
          "name": "stderr",
          "output_type": "stream",
          "text": [
            "/usr/local/lib/python3.11/dist-packages/keras/src/layers/core/dense.py:87: UserWarning: Do not pass an `input_shape`/`input_dim` argument to a layer. When using Sequential models, prefer using an `Input(shape)` object as the first layer in the model instead.\n",
            "  super().__init__(activity_regularizer=activity_regularizer, **kwargs)\n"
          ]
        },
        {
          "name": "stdout",
          "output_type": "stream",
          "text": [
            "\u001b[1m11/11\u001b[0m \u001b[32m━━━━━━━━━━━━━━━━━━━━\u001b[0m\u001b[37m\u001b[0m \u001b[1m0s\u001b[0m 7ms/step\n"
          ]
        },
        {
          "name": "stderr",
          "output_type": "stream",
          "text": [
            "/usr/local/lib/python3.11/dist-packages/keras/src/layers/core/dense.py:87: UserWarning: Do not pass an `input_shape`/`input_dim` argument to a layer. When using Sequential models, prefer using an `Input(shape)` object as the first layer in the model instead.\n",
            "  super().__init__(activity_regularizer=activity_regularizer, **kwargs)\n"
          ]
        },
        {
          "name": "stdout",
          "output_type": "stream",
          "text": [
            "\u001b[1m11/11\u001b[0m \u001b[32m━━━━━━━━━━━━━━━━━━━━\u001b[0m\u001b[37m\u001b[0m \u001b[1m0s\u001b[0m 10ms/step\n"
          ]
        },
        {
          "name": "stderr",
          "output_type": "stream",
          "text": [
            "/usr/local/lib/python3.11/dist-packages/keras/src/layers/core/dense.py:87: UserWarning: Do not pass an `input_shape`/`input_dim` argument to a layer. When using Sequential models, prefer using an `Input(shape)` object as the first layer in the model instead.\n",
            "  super().__init__(activity_regularizer=activity_regularizer, **kwargs)\n"
          ]
        },
        {
          "name": "stdout",
          "output_type": "stream",
          "text": [
            "\u001b[1m11/11\u001b[0m \u001b[32m━━━━━━━━━━━━━━━━━━━━\u001b[0m\u001b[37m\u001b[0m \u001b[1m0s\u001b[0m 8ms/step\n"
          ]
        },
        {
          "name": "stderr",
          "output_type": "stream",
          "text": [
            "/usr/local/lib/python3.11/dist-packages/keras/src/layers/core/dense.py:87: UserWarning: Do not pass an `input_shape`/`input_dim` argument to a layer. When using Sequential models, prefer using an `Input(shape)` object as the first layer in the model instead.\n",
            "  super().__init__(activity_regularizer=activity_regularizer, **kwargs)\n"
          ]
        },
        {
          "name": "stdout",
          "output_type": "stream",
          "text": [
            "\u001b[1m11/11\u001b[0m \u001b[32m━━━━━━━━━━━━━━━━━━━━\u001b[0m\u001b[37m\u001b[0m \u001b[1m0s\u001b[0m 9ms/step\n"
          ]
        },
        {
          "name": "stderr",
          "output_type": "stream",
          "text": [
            "/usr/local/lib/python3.11/dist-packages/keras/src/layers/core/dense.py:87: UserWarning: Do not pass an `input_shape`/`input_dim` argument to a layer. When using Sequential models, prefer using an `Input(shape)` object as the first layer in the model instead.\n",
            "  super().__init__(activity_regularizer=activity_regularizer, **kwargs)\n"
          ]
        },
        {
          "name": "stdout",
          "output_type": "stream",
          "text": [
            "\u001b[1m11/11\u001b[0m \u001b[32m━━━━━━━━━━━━━━━━━━━━\u001b[0m\u001b[37m\u001b[0m \u001b[1m0s\u001b[0m 16ms/step\n",
            "\n",
            "Average performance across 5 folds:\n",
            "                     Accuracy  F1 Score  Sensitivity  Specificity     PPV  \\\n",
            "Decision Tree          0.8504    0.8494       0.8435       0.8573  0.8567   \n",
            "Logistic Regression    0.9125    0.9119       0.9057       0.9194  0.9184   \n",
            "Random Forest          0.9005    0.8996       0.8919       0.9091  0.9079   \n",
            "XGBoost                0.9051    0.9050       0.9045       0.9056  0.9062   \n",
            "LightGBM               0.9039    0.9041       0.9045       0.9033  0.9044   \n",
            "ANN                    0.8694    0.8681       0.8596       0.8791  0.8786   \n",
            "\n",
            "                        NPV   AUROC  Running Time (s)  \n",
            "Decision Tree        0.8463  0.8504            0.9449  \n",
            "Logistic Regression  0.9073  0.9731            5.2378  \n",
            "Random Forest        0.8939  0.9642            3.1572  \n",
            "XGBoost              0.9054  0.9706            1.3044  \n",
            "LightGBM             0.9046  0.9709            1.0645  \n",
            "ANN                  0.8635  0.9451           70.7184  \n"
          ]
        },
        {
          "data": {
            "image/png": "[encoded data removed]",
            "text/plain": [
              "<Figure size 800x600 with 1 Axes>"
            ]
          },
          "metadata": {},
          "output_type": "display_data"
        },
        {
          "name": "stderr",
          "output_type": "stream",
          "text": [
            "/usr/local/lib/python3.11/dist-packages/xgboost/core.py:158: UserWarning: [02:21:51] WARNING: /workspace/src/learner.cc:740: \n",
            "Parameters: { \"use_label_encoder\" } are not used.\n",
            "\n",
            "  warnings.warn(smsg, UserWarning)\n",
            "/usr/local/lib/python3.11/dist-packages/xgboost/core.py:158: UserWarning: [02:21:52] WARNING: /workspace/src/learner.cc:740: \n",
            "Parameters: { \"use_label_encoder\" } are not used.\n",
            "\n",
            "  warnings.warn(smsg, UserWarning)\n",
            "/usr/local/lib/python3.11/dist-packages/xgboost/core.py:158: UserWarning: [02:21:52] WARNING: /workspace/src/learner.cc:740: \n",
            "Parameters: { \"use_label_encoder\" } are not used.\n",
            "\n",
            "  warnings.warn(smsg, UserWarning)\n",
            "/usr/local/lib/python3.11/dist-packages/xgboost/core.py:158: UserWarning: [02:21:52] WARNING: /workspace/src/learner.cc:740: \n",
            "Parameters: { \"use_label_encoder\" } are not used.\n",
            "\n",
            "  warnings.warn(smsg, UserWarning)\n"
          ]
        },
        {
          "name": "stdout",
          "output_type": "stream",
          "text": [
            "Mean Accuracy across 5 folds: 0.9051\n",
            "Mean AUROC across 5 folds: 0.9706\n",
            "   Feature  Importance\n",
            "19    wRC+    0.214665\n",
            "31   PLOB%    0.105832\n",
            "18    wRAA    0.095032\n",
            "29    WHIP    0.055808\n",
            "17    wOBA    0.054110\n",
            "27      H9    0.047024\n",
            "14     OPS    0.046948\n",
            "36     FIP    0.037316\n",
            "23    P_HR    0.025169\n",
            "12     OBP    0.024282\n",
            "11     AVG    0.023502\n",
            "10      SF    0.017550\n",
            "8     B_SO    0.017448\n",
            "13     SLG    0.015509\n",
            "25    P_SO    0.014886\n",
            "2       1B    0.014670\n",
            "5     B_HR    0.013162\n",
            "21      BF    0.013032\n",
            "20      NP    0.012278\n",
            "7     B_BB    0.011592\n",
            "30   NP/IP    0.010815\n",
            "35   BABIP    0.010612\n",
            "24    P_BB    0.010244\n",
            "0       PA    0.010017\n",
            "26      B9    0.009700\n",
            "22     P_H    0.009668\n",
            "32    PG/F    0.008920\n",
            "9       SH    0.008691\n",
            "15    IsoP    0.008660\n",
            "16     G/F    0.008647\n",
            "1       AB    0.007953\n",
            "4       3B    0.007833\n",
            "34      S%    0.007759\n",
            "33  Strike    0.006157\n",
            "28      K9    0.005951\n",
            "3       2B    0.004692\n",
            "6      B_H    0.003865\n"
          ]
        },
        {
          "data": {
            "image/png": "[encoded data removed]",
            "text/plain": [
              "<Figure size 1000x600 with 1 Axes>"
            ]
          },
          "metadata": {},
          "output_type": "display_data"
        },
        {
          "ename": "NameError",
          "evalue": "name 'shap_values' is not defined",
          "output_type": "error",
          "traceback": [
            "\u001b[0;31m---------------------------------------------------------------------------\u001b[0m",
            "\u001b[0;31mNameError\u001b[0m                                 Traceback (most recent call last)",
            "\u001b[0;32m<ipython-input-3-1316311055>\u001b[0m in \u001b[0;36m<cell line: 0>\u001b[0;34m()\u001b[0m\n\u001b[1;32m    388\u001b[0m \u001b[0;34m\u001b[0m\u001b[0m\n\u001b[1;32m    389\u001b[0m \u001b[0;31m# 繪製 SHAP summary plot\u001b[0m\u001b[0;34m\u001b[0m\u001b[0;34m\u001b[0m\u001b[0m\n\u001b[0;32m--> 390\u001b[0;31m \u001b[0mshap\u001b[0m\u001b[0;34m.\u001b[0m\u001b[0msummary_plot\u001b[0m\u001b[0;34m(\u001b[0m\u001b[0mshap_values\u001b[0m\u001b[0;34m,\u001b[0m \u001b[0mX\u001b[0m\u001b[0;34m)\u001b[0m\u001b[0;34m\u001b[0m\u001b[0;34m\u001b[0m\u001b[0m\n\u001b[0m\u001b[1;32m    391\u001b[0m \u001b[0;32mimport\u001b[0m \u001b[0mshap\u001b[0m\u001b[0;34m\u001b[0m\u001b[0;34m\u001b[0m\u001b[0m\n\u001b[1;32m    392\u001b[0m \u001b[0;34m\u001b[0m\u001b[0m\n",
            "\u001b[0;31mNameError\u001b[0m: name 'shap_values' is not defined"
          ]
        }
      ],
      "source": [
        "import pandas as pd\n",
        "import numpy as np\n",
        "import time\n",
        "from sklearn.model_selection import StratifiedKFold\n",
        "from sklearn.metrics import accuracy_score, f1_score, recall_score, roc_auc_score, confusion_matrix, precision_score\n",
        "from sklearn.linear_model import LogisticRegression\n",
        "from sklearn.tree import DecisionTreeClassifier\n",
        "from sklearn.ensemble import RandomForestClassifier\n",
        "import xgboost as xgb\n",
        "import lightgbm as lgb\n",
        "from tensorflow.keras.models import Sequential\n",
        "from tensorflow.keras.layers import Dense, Dropout\n",
        "from tensorflow.keras.utils import set_random_seed\n",
        "import shap\n",
        "\n",
        "# 固定隨機種子\n",
        "np.random.seed(42)\n",
        "set_random_seed(42)\n",
        "\n",
        "# 載入資料\n",
        "data = pd.read_csv('cpbl_total_yes9.csv')\n",
        "X = data.drop(columns=['result'])\n",
        "y = data['result']\n",
        "\n",
        "# 構建 ANN 模型函式\n",
        "def build_ann(input_dim):\n",
        "    model = Sequential()\n",
        "    model.add(Dense(64, input_dim=input_dim, activation='relu'))\n",
        "    model.add(Dropout(0.3))\n",
        "    model.add(Dense(32, activation='relu'))\n",
        "    model.add(Dense(1, activation='sigmoid'))\n",
        "    model.compile(optimizer='adam', loss='binary_crossentropy')\n",
        "    return model\n",
        "\n",
        "# 計算 specificity, NPV\n",
        "def compute_metrics(y_true, y_pred, y_prob):\n",
        "    tn, fp, fn, tp = confusion_matrix(y_true, y_pred).ravel()\n",
        "    acc = accuracy_score(y_true, y_pred)\n",
        "    f1 = f1_score(y_true, y_pred)\n",
        "    sens = recall_score(y_true, y_pred)  # sensitivity\n",
        "    spec = tn / (tn + fp) if (tn + fp) > 0 else 0\n",
        "    ppv = precision_score(y_true, y_pred)  # positive predictive value\n",
        "    npv = tn / (tn + fn) if (tn + fn) > 0 else 0\n",
        "    auc = roc_auc_score(y_true, y_prob)\n",
        "    return acc, f1, sens, spec, ppv, npv, auc\n",
        "\n",
        "# 模型定義\n",
        "models = {\n",
        "    'Decision Tree': DecisionTreeClassifier(),\n",
        "    'Logistic Regression': LogisticRegression(max_iter=1000),\n",
        "    'Random Forest': RandomForestClassifier(),\n",
        "    'XGBoost': xgb.XGBClassifier(use_label_encoder=False, eval_metric='logloss'),\n",
        "    'LightGBM': lgb.LGBMClassifier(),\n",
        "    'ANN': 'custom_ann'\n",
        "}\n",
        "\n",
        "# 存放結果\n",
        "results = {}\n",
        "\n",
        "kf = StratifiedKFold(n_splits=5, shuffle=True, random_state=42)\n",
        "\n",
        "for model_name, model in models.items():\n",
        "    print(f'\\nTraining: {model_name}')\n",
        "    accs, f1s, senss, specs, ppvs, npvs, aucs = [], [], [], [], [], [], []\n",
        "    start_time = time.time()\n",
        "\n",
        "    for train_idx, test_idx in kf.split(X, y):\n",
        "        X_train, X_test = X.iloc[train_idx], X.iloc[test_idx]\n",
        "        y_train, y_test = y.iloc[train_idx], y.iloc[test_idx]\n",
        "\n",
        "        if model_name == 'ANN':\n",
        "            ann_model = build_ann(X.shape[1])\n",
        "            ann_model.fit(X_train, y_train, epochs=50, batch_size=32, verbose=0)\n",
        "            y_prob = ann_model.predict(X_test).ravel()\n",
        "            y_pred = (y_prob > 0.5).astype(int)\n",
        "        else:\n",
        "            model.fit(X_train, y_train)\n",
        "            y_pred = model.predict(X_test)\n",
        "            y_prob = model.predict_proba(X_test)[:, 1]\n",
        "\n",
        "        acc, f1, sens, spec, ppv, npv, auc = compute_metrics(y_test, y_pred, y_prob)\n",
        "        accs.append(acc)\n",
        "        f1s.append(f1)\n",
        "        senss.append(sens)\n",
        "        specs.append(spec)\n",
        "        ppvs.append(ppv)\n",
        "        npvs.append(npv)\n",
        "        aucs.append(auc)\n",
        "\n",
        "    end_time = time.time()\n",
        "    elapsed_time = end_time - start_time\n",
        "\n",
        "    results[model_name] = {\n",
        "        'Accuracy': np.mean(accs),\n",
        "        'F1 Score': np.mean(f1s),\n",
        "        'Sensitivity': np.mean(senss),\n",
        "        'Specificity': np.mean(specs),\n",
        "        'PPV': np.mean(ppvs),\n",
        "        'NPV': np.mean(npvs),\n",
        "        'AUROC': np.mean(aucs),\n",
        "        'Time (s)': elapsed_time\n",
        "    }\n",
        "\n",
        "# 結果輸出為表格\n",
        "results_df = pd.DataFrame(results).T\n",
        "print(\"\\nModel Performance Comparison (5-Fold CV):\")\n",
        "print(results_df.round(4))\n",
        "results = {}\n",
        "fold_metrics = {}\n",
        "\n",
        "kf = StratifiedKFold(n_splits=5, shuffle=True, random_state=42)\n",
        "\n",
        "for model_name, model in models.items():\n",
        "    print(f'\\nTraining: {model_name}')\n",
        "    accs, f1s, senss, specs, ppvs, npvs, aucs = [], [], [], [], [], [], []\n",
        "    fold_list = []\n",
        "\n",
        "    start_time = time.time()\n",
        "\n",
        "    for fold, (train_idx, test_idx) in enumerate(kf.split(X, y), 1):\n",
        "        X_train, X_test = X.iloc[train_idx], X.iloc[test_idx]\n",
        "        y_train, y_test = y.iloc[train_idx], y.iloc[test_idx]\n",
        "\n",
        "        if model_name == 'ANN':\n",
        "            ann_model = build_ann(X.shape[1])\n",
        "            ann_model.fit(X_train, y_train, epochs=50, batch_size=32, verbose=0)\n",
        "            y_prob = ann_model.predict(X_test).ravel()\n",
        "            y_pred = (y_prob > 0.5).astype(int)\n",
        "        else:\n",
        "            model.fit(X_train, y_train)\n",
        "            y_pred = model.predict(X_test)\n",
        "            y_prob = model.predict_proba(X_test)[:, 1]\n",
        "\n",
        "        acc, f1, sens, spec, ppv, npv, auc = compute_metrics(y_test, y_pred, y_prob)\n",
        "        accs.append(acc)\n",
        "        f1s.append(f1)\n",
        "        senss.append(sens)\n",
        "        specs.append(spec)\n",
        "        ppvs.append(ppv)\n",
        "        npvs.append(npv)\n",
        "        aucs.append(auc)\n",
        "\n",
        "        # 儲存每一折的結果\n",
        "        fold_list.append({\n",
        "            'Fold': fold,\n",
        "            'Accuracy': acc,\n",
        "            'F1 Score': f1,\n",
        "            'Sensitivity': sens,\n",
        "            'Specificity': spec,\n",
        "            'PPV': ppv,\n",
        "            'NPV': npv,\n",
        "            'AUROC': auc\n",
        "        })\n",
        "\n",
        "    end_time = time.time()\n",
        "    elapsed_time = end_time - start_time\n",
        "\n",
        "    results[model_name] = {\n",
        "        'Accuracy': np.mean(accs),\n",
        "        'F1 Score': np.mean(f1s),\n",
        "        'Sensitivity': np.mean(senss),\n",
        "        'Specificity': np.mean(specs),\n",
        "        'PPV': np.mean(ppvs),\n",
        "        'NPV': np.mean(npvs),\n",
        "        'AUROC': np.mean(aucs),\n",
        "        'Time (s)': elapsed_time\n",
        "    }\n",
        "\n",
        "    fold_metrics[model_name] = pd.DataFrame(fold_list)\n",
        "\n",
        "# 顯示平均結果\n",
        "print(\"\\nModel Performance (Average over 5 folds):\")\n",
        "print(pd.DataFrame(results).T.round(4))\n",
        "\n",
        "# 顯示每一折的詳細結果\n",
        "for model_name, df in fold_metrics.items():\n",
        "    print(f\"\\nDetailed results for {model_name}:\")\n",
        "    print(df.round(4))\n",
        "from sklearn.model_selection import StratifiedKFold\n",
        "import numpy as np\n",
        "import pandas as pd\n",
        "import time\n",
        "\n",
        "# 儲存所有模型的平均結果\n",
        "summary_results = {}\n",
        "\n",
        "kf = StratifiedKFold(n_splits=5, shuffle=True, random_state=42)\n",
        "\n",
        "for model_name, model in models.items():\n",
        "    print(f\"\\nTraining model: {model_name}\")\n",
        "    accs, f1s, senss, specs, ppvs, npvs, aucs = [], [], [], [], [], [], []\n",
        "\n",
        "    start_time = time.time()\n",
        "\n",
        "    for train_idx, test_idx in kf.split(X, y):\n",
        "        X_train, X_test = X.iloc[train_idx], X.iloc[test_idx]\n",
        "        y_train, y_test = y.iloc[train_idx], y.iloc[test_idx]\n",
        "\n",
        "        if model_name == 'ANN':\n",
        "            ann_model = build_ann(X.shape[1])\n",
        "            ann_model.fit(X_train, y_train, epochs=50, batch_size=32, verbose=0)\n",
        "            y_prob = ann_model.predict(X_test).ravel()\n",
        "            y_pred = (y_prob > 0.5).astype(int)\n",
        "        else:\n",
        "            model.fit(X_train, y_train)\n",
        "            y_pred = model.predict(X_test)\n",
        "            y_prob = model.predict_proba(X_test)[:, 1]\n",
        "\n",
        "        acc, f1, sens, spec, ppv, npv, auc = compute_metrics(y_test, y_pred, y_prob)\n",
        "        accs.append(acc)\n",
        "        f1s.append(f1)\n",
        "        senss.append(sens)\n",
        "        specs.append(spec)\n",
        "        ppvs.append(ppv)\n",
        "        npvs.append(npv)\n",
        "        aucs.append(auc)\n",
        "\n",
        "    elapsed_time = time.time() - start_time\n",
        "\n",
        "    # 儲存平均結果\n",
        "    summary_results[model_name] = {\n",
        "        'Accuracy': np.mean(accs),\n",
        "        'F1 Score': np.mean(f1s),\n",
        "        'Sensitivity': np.mean(senss),\n",
        "        'Specificity': np.mean(specs),\n",
        "        'PPV': np.mean(ppvs),\n",
        "        'NPV': np.mean(npvs),\n",
        "        'AUROC': np.mean(aucs),\n",
        "        'Running Time (s)': elapsed_time\n",
        "    }\n",
        "\n",
        "# 顯示所有模型的平均結果\n",
        "summary_df = pd.DataFrame(summary_results).T.round(4)\n",
        "print(\"\\nAverage performance across 5 folds:\")\n",
        "print(summary_df)\n",
        "from sklearn.metrics import roc_curve, auc\n",
        "import matplotlib.pyplot as plt\n",
        "from sklearn.model_selection import StratifiedKFold\n",
        "import numpy as np\n",
        "import pandas as pd\n",
        "import time\n",
        "\n",
        "summary_results = {}\n",
        "kf = StratifiedKFold(n_splits=5, shuffle=True, random_state=42)\n",
        "\n",
        "# 為了畫 ROC 曲線，儲存 fpr/tpr\n",
        "roc_curves = {}\n",
        "\n",
        "for model_name, model in models.items():\n",
        "    print(f\"\\nTraining model: {model_name}\")\n",
        "    accs, f1s, senss, specs, ppvs, npvs, aucs = [], [], [], [], [], [], []\n",
        "\n",
        "    tprs = []\n",
        "    mean_fpr = np.linspace(0, 1, 100)\n",
        "    all_y_test = []\n",
        "    all_y_score = []\n",
        "\n",
        "    start_time = time.time()\n",
        "\n",
        "    for train_idx, test_idx in kf.split(X, y):\n",
        "        X_train, X_test = X.iloc[train_idx], X.iloc[test_idx]\n",
        "        y_train, y_test = y.iloc[train_idx], y.iloc[test_idx]\n",
        "\n",
        "        if model_name == 'ANN':\n",
        "            ann_model = build_ann(X.shape[1])\n",
        "            ann_model.fit(X_train, y_train, epochs=50, batch_size=32, verbose=0)\n",
        "            y_prob = ann_model.predict(X_test).ravel()\n",
        "            y_pred = (y_prob > 0.5).astype(int)\n",
        "        else:\n",
        "            model.fit(X_train, y_train)\n",
        "            y_pred = model.predict(X_test)\n",
        "            y_prob = model.predict_proba(X_test)[:, 1]\n",
        "\n",
        "        # 評估指標\n",
        "        acc, f1, sens, spec, ppv, npv, roc_auc = compute_metrics(y_test, y_pred, y_prob)\n",
        "        accs.append(acc)\n",
        "        f1s.append(f1)\n",
        "        senss.append(sens)\n",
        "        specs.append(spec)\n",
        "        ppvs.append(ppv)\n",
        "        npvs.append(npv)\n",
        "        aucs.append(roc_auc)\n",
        "\n",
        "        # 儲存 ROC 曲線用資料\n",
        "        fpr, tpr, _ = roc_curve(y_test, y_prob)\n",
        "        interp_tpr = np.interp(mean_fpr, fpr, tpr)\n",
        "        interp_tpr[0] = 0.0\n",
        "        tprs.append(interp_tpr)\n",
        "\n",
        "    elapsed_time = time.time() - start_time\n",
        "\n",
        "    # ROC 曲線資訊\n",
        "    mean_tpr = np.mean(tprs, axis=0)\n",
        "    mean_tpr[-1] = 1.0\n",
        "    mean_auc = auc(mean_fpr, mean_tpr)\n",
        "    roc_curves[model_name] = (mean_fpr, mean_tpr, mean_auc)\n",
        "\n",
        "    summary_results[model_name] = {\n",
        "        'Accuracy': np.mean(accs),\n",
        "        'F1 Score': np.mean(f1s),\n",
        "        'Sensitivity': np.mean(senss),\n",
        "        'Specificity': np.mean(specs),\n",
        "        'PPV': np.mean(ppvs),\n",
        "        'NPV': np.mean(npvs),\n",
        "        'AUROC': np.mean(aucs),\n",
        "        'Running Time (s)': elapsed_time\n",
        "    }\n",
        "\n",
        "# ➤ 輸出平均結果表格\n",
        "summary_df = pd.DataFrame(summary_results).T.round(4)\n",
        "print(\"\\nAverage performance across 5 folds:\")\n",
        "print(summary_df)\n",
        "\n",
        "# ➤ 繪製所有模型的 ROC 曲線圖\n",
        "plt.figure(figsize=(8, 6))\n",
        "for model_name, (fpr, tpr, mean_auc) in roc_curves.items():\n",
        "    plt.plot(fpr, tpr, label=f\"{model_name} (AUC = {mean_auc:.3f})\")\n",
        "\n",
        "plt.plot([0, 1], [0, 1], 'k--', label='Random (AUC = 0.5)')\n",
        "plt.xlabel('False Positive Rate')\n",
        "plt.ylabel('True Positive Rate')\n",
        "plt.title('Mean ROC Curve across 5 folds')\n",
        "plt.legend(loc='lower right')\n",
        "plt.grid(True)\n",
        "plt.tight_layout()\n",
        "plt.show()\n",
        "\n",
        "\n",
        "\n",
        "import pandas as pd\n",
        "import numpy as np\n",
        "import xgboost as xgb\n",
        "import shap\n",
        "import matplotlib.pyplot as plt\n",
        "from sklearn.model_selection import StratifiedKFold, train_test_split\n",
        "from sklearn.metrics import accuracy_score, roc_auc_score, confusion_matrix\n",
        "\n",
        "# 讀取數據集\n",
        "data = pd.read_csv('cpbl_total_yes9.csv')\n",
        "X = data.drop(columns=['result'])  # 特徵\n",
        "y = data['result']  # 目標變數\n",
        "\n",
        "# 定義 XGBoost 模型\n",
        "model = xgb.XGBClassifier(use_label_encoder=False, eval_metric='logloss')\n",
        "\n",
        "# 五折交叉驗證\n",
        "kf = StratifiedKFold(n_splits=5, shuffle=True, random_state=42)\n",
        "accuracy_scores = []\n",
        "auroc_scores = []\n",
        "\n",
        "for train_index, test_index in kf.split(X, y):\n",
        "    X_train, X_test = X.iloc[train_index], X.iloc[test_index]\n",
        "    y_train, y_test = y.iloc[train_index], y.iloc[test_index]\n",
        "\n",
        "    # 訓練 XGBoost 模型\n",
        "    model.fit(X_train, y_train)\n",
        "\n",
        "    # 預測\n",
        "    y_pred = model.predict(X_test)\n",
        "    y_pred_prob = model.predict_proba(X_test)[:, 1]\n",
        "\n",
        "    # 計算準確率與 AUROC\n",
        "    accuracy_scores.append(accuracy_score(y_test, y_pred))\n",
        "    auroc_scores.append(roc_auc_score(y_test, y_pred_prob))\n",
        "\n",
        "# 計算並打印五折交叉驗證的平均準確率與 AUROC\n",
        "print(f'Mean Accuracy across 5 folds: {np.mean(accuracy_scores):.4f}')\n",
        "print(f'Mean AUROC across 5 folds: {np.mean(auroc_scores):.4f}')\n",
        "\n",
        "# 獲取特徵重要性\n",
        "feature_importance = model.feature_importances_\n",
        "features = X.columns\n",
        "importance_df = pd.DataFrame({'Feature': features, 'Importance': feature_importance})\n",
        "importance_df = importance_df.sort_values(by='Importance', ascending=False)\n",
        "\n",
        "# 顯示特徵重要性\n",
        "print(importance_df)\n",
        "\n",
        "# 繪製特徵重要性圖\n",
        "plt.figure(figsize=(10, 6))\n",
        "plt.barh(importance_df['Feature'], importance_df['Importance'], color='skyblue')\n",
        "plt.xlabel('Importance')\n",
        "plt.ylabel('Feature')\n",
        "plt.title('Feature Importance (XGBoost)')\n",
        "plt.gca().invert_yaxis()\n",
        "plt.show()\n",
        "\n",
        "\n",
        "# 繪製 SHAP summary plot\n",
        "shap.summary_plot(shap_values, X)\n",
        "import shap\n",
        "\n",
        "# 初始化 SHAP explainer（針對 tree-based 模型）\n",
        "explainer = shap.TreeExplainer(model)\n",
        "shap_values = explainer.shap_values(X)\n",
        "\n",
        "# ➤ 繪製 SHAP summary plot\n",
        "shap.summary_plot(shap_values, X)\n",
        "\n",
        "# ➤ 若要計算 interaction values\n",
        "interaction_values = explainer.shap_interaction_values(X)\n",
        "\n",
        "# ➤ 繪製 SHAP interaction summary plot（適合查看 feature pair interaction）\n",
        "shap.summary_plot(interaction_values, X)"
      ]
    },
    {
      "cell_type": "code",
      "execution_count": null,
      "metadata": {
        "colab": {
          "background_save": true
        },
        "id": "X6m1PJsAW1HZ"
      },
      "outputs": [],
      "source": [
        "# ---------- SHAP 解釋 ----------\n",
        "import shap\n",
        "\n",
        "# 使用 SHAP 的 TreeExplainer 對訓練後的模型進行解釋\n",
        "explainer = shap.TreeExplainer(model)\n",
        "\n",
        "# 使用整個 X（或 X_sample）計算 SHAP 值\n",
        "# 如果資料量太大可以選一部分，例如 X.sample(200)\n",
        "shap_values = explainer.shap_values(X)\n",
        "\n",
        "# ➤ 繪製 SHAP Summary Plot（特徵重要性 + 分佈）\n",
        "shap.summary_plot(shap_values, X, plot_type=\"bar\")  # 長條圖（平均重要性）\n",
        "shap.summary_plot(shap_values, X)                   # 點圖（重要性 + 分布）\n",
        "\n",
        "# ➤ SHAP interaction values（進階互動分析）\n",
        "# 注意：計算 interaction 值會更耗時\n",
        "interaction_values = explainer.shap_interaction_values(X)\n",
        "\n",
        "# ➤ 繪製 interaction summary plot（觀察特徵間互動）\n",
        "shap.summary_plot(interaction_values, X)"
      ]
    },
    {
      "cell_type": "code",
      "execution_count": null,
      "metadata": {
        "colab": {
          "background_save": true
        },
        "id": "JNITpGqJW5bl"
      },
      "outputs": [],
      "source": [
        "import pandas as pd\n",
        "import numpy as np\n",
        "import xgboost as xgb\n",
        "import shap\n",
        "import matplotlib.pyplot as plt\n",
        "from sklearn.model_selection import StratifiedKFold\n",
        "from sklearn.metrics import accuracy_score, roc_auc_score\n",
        "\n",
        "# 讀取數據集\n",
        "data = pd.read_csv('cpbl_total_yes9.csv')\n",
        "X = data.drop(columns=['result'])  # 特徵\n",
        "y = data['result']  # 目標變數\n",
        "\n",
        "# 定義 XGBoost 模型\n",
        "model = xgb.XGBClassifier(use_label_encoder=False, eval_metric='logloss')\n",
        "\n",
        "# 五折交叉驗證\n",
        "kf = StratifiedKFold(n_splits=5, shuffle=True, random_state=42)\n",
        "accuracy_scores = []\n",
        "auroc_scores = []\n",
        "\n",
        "# 為了後續 SHAP 使用保留最後一折資料\n",
        "final_X_train, final_X_test, final_y_train, final_y_test = None, None, None, None\n",
        "\n",
        "for fold, (train_index, test_index) in enumerate(kf.split(X, y)):\n",
        "    X_train, X_test = X.iloc[train_index], X.iloc[test_index]\n",
        "    y_train, y_test = y.iloc[train_index], y.iloc[test_index]\n",
        "\n",
        "    model.fit(X_train, y_train)\n",
        "    y_pred = model.predict(X_test)\n",
        "    y_pred_prob = model.predict_proba(X_test)[:, 1]\n",
        "\n",
        "    accuracy_scores.append(accuracy_score(y_test, y_pred))\n",
        "    auroc_scores.append(roc_auc_score(y_test, y_pred_prob))\n",
        "\n",
        "    # 保存最後一折資料供 SHAP 使用\n",
        "    if fold == 4:\n",
        "        final_X_train, final_X_test = X_train, X_test\n",
        "        final_y_train, final_y_test = y_train, y_test\n",
        "\n",
        "# 顯示交叉驗證結果\n",
        "print(f'Mean Accuracy across 5 folds: {np.mean(accuracy_scores):.4f}')\n",
        "print(f'Mean AUROC across 5 folds: {np.mean(auroc_scores):.4f}')\n",
        "\n",
        "# ➤ SHAP 分析 (針對最後一折訓練好的模型)\n",
        "explainer = shap.Explainer(model)  #\n"
      ]
    },
    {
      "cell_type": "code",
      "execution_count": null,
      "metadata": {
        "colab": {
          "background_save": true
        },
        "id": "7lYprdr9Xq6e"
      },
      "outputs": [],
      "source": [
        "import pandas as pd\n",
        "import numpy as np\n",
        "import xgboost as xgb\n",
        "import shap\n",
        "import matplotlib.pyplot as plt\n",
        "from sklearn.model_selection import StratifiedKFold\n",
        "from sklearn.metrics import accuracy_score, roc_auc_score\n",
        "\n",
        "# 讀取數據\n",
        "data = pd.read_csv('cpbl_total_yes9.csv')\n",
        "X = data.drop(columns=['result'])  # 特徵\n",
        "y = data['result']  # 目標變數\n",
        "\n",
        "# 定義模型\n",
        "model = xgb.XGBClassifier(use_label_encoder=False, eval_metric='logloss')\n",
        "\n",
        "# 交叉驗證\n",
        "kf = StratifiedKFold(n_splits=5, shuffle=True, random_state=42)\n",
        "accuracy_scores, auroc_scores = [], []\n",
        "\n",
        "# 保留最後一折的資料\n",
        "final_X_train, final_X_test, final_y_train, final_y_test = None, None, None, None\n",
        "\n",
        "for fold, (train_index, test_index) in enumerate(kf.split(X, y)):\n",
        "    X_train, X_test = X.iloc[train_index], X.iloc[test_index]\n",
        "    y_train, y_test = y.iloc[train_index], y.iloc[test_index]\n",
        "\n",
        "    model.fit(X_train, y_train)\n",
        "    y_pred = model.predict(X_test)\n",
        "    y_prob = model.predict_proba(X_test)[:, 1]\n",
        "\n",
        "    accuracy_scores.append(accuracy_score(y_test, y_pred))\n",
        "    auroc_scores.append(roc_auc_score(y_test, y_prob))\n",
        "\n",
        "    if fold == 4:\n",
        "        final_X_train, final_X_test = X_train, X_test\n",
        "        final_y_train, final_y_test = y_train, y_test\n",
        "\n",
        "# 顯示交叉驗證結果\n",
        "print(f\"Mean Accuracy: {np.mean(accuracy_scores):.4f}\")\n",
        "print(f\"Mean AUROC: {np.mean(auroc_scores):.4f}\")\n",
        "\n",
        "# ➤ SHAP 分析\n",
        "explainer = shap.TreeExplainer(model)\n",
        "interaction_values = explainer.shap_interaction_values(final_X_test)\n",
        "\n",
        "# ➤ SHAP Interaction Summary Plot\n",
        "shap.summary_plot(interaction_values, final_X_test)\n"
      ]
    },
    {
      "cell_type": "code",
      "execution_count": null,
      "metadata": {
        "colab": {
          "background_save": true
        },
        "id": "Du3P9oepX1Da"
      },
      "outputs": [],
      "source": [
        "import pandas as pd\n",
        "import numpy as np\n",
        "import xgboost as xgb\n",
        "import shap\n",
        "import matplotlib.pyplot as plt\n",
        "from sklearn.model_selection import StratifiedKFold\n",
        "from sklearn.metrics import accuracy_score, roc_auc_score\n",
        "\n",
        "# 讀取數據\n",
        "data = pd.read_csv('cpbl_total_yes9.csv')\n",
        "X = data.drop(columns=['result'])  # 特徵\n",
        "y = data['result']  # 目標變數\n",
        "\n",
        "# 定義模型\n",
        "model = xgb.XGBClassifier(use_label_encoder=False, eval_metric='logloss')\n",
        "\n",
        "# 交叉驗證\n",
        "kf = StratifiedKFold(n_splits=5, shuffle=True, random_state=42)\n",
        "accuracy_scores, auroc_scores = [], []\n",
        "\n",
        "# 保留最後一折資料\n",
        "final_X_train, final_X_test, final_y_train, final_y_test = None, None, None, None\n",
        "\n",
        "for fold, (train_index, test_index) in enumerate(kf.split(X, y)):\n",
        "    X_train, X_test = X.iloc[train_index], X.iloc[test_index]\n",
        "    y_train, y_test = y.iloc[train_index], y.iloc[test_index]\n",
        "\n",
        "    model.fit(X_train, y_train)\n",
        "    y_pred = model.predict(X_test)\n",
        "    y_prob = model.predict_proba(X_test)[:, 1]\n",
        "\n",
        "    accuracy_scores.append(accuracy_score(y_test, y_pred))\n",
        "    auroc_scores.append(roc_auc_score(y_test, y_prob))\n",
        "\n",
        "    if fold == 4:\n",
        "        final_X_train, final_X_test = X_train, X_test\n",
        "        final_y_train, final_y_test = y_train, y_test\n",
        "\n",
        "# 顯示交叉驗證結果\n",
        "print(f\"Mean Accuracy: {np.mean(accuracy_scores):.4f}\")\n",
        "print(f\"Mean AUROC: {np.mean(auroc_scores):.4f}\")\n",
        "\n",
        "# ➤ SHAP 分析\n",
        "explainer = shap.TreeExplainer(model)\n",
        "interaction_values = explainer.shap_interaction_values(final_X_test)\n",
        "\n",
        "# ➤ SHAP Interaction Summary Plot\n",
        "shap.summary_plot(interaction_values, final_X_test)\n"
      ]
    },
    {
      "cell_type": "code",
      "execution_count": null,
      "metadata": {
        "colab": {
          "background_save": true
        },
        "id": "ZSZZtW7WET2k"
      },
      "outputs": [],
      "source": [
        "import shap\n",
        "\n",
        "# 假設你用的模型是 gbc（GradientBoostingClassifier）\n",
        "explainer = shap.TreeExplainer(gbc)\n",
        "shap_values = explainer.shap_values(X_train)\n",
        "\n",
        "# Summary 圖（點圖與長條圖）\n",
        "shap.summary_plot(shap_values, X_train, title=\"SHAP Summary Plot\")\n",
        "shap.summary_plot(shap_values, X_train, plot_type=\"bar\")\n"
      ]
    },
    {
      "cell_type": "code",
      "execution_count": null,
      "metadata": {
        "colab": {
          "background_save": true
        },
        "id": "rhU0_ya2EW78"
      },
      "outputs": [],
      "source": [
        "# Waterfall plot for one sample\n",
        "# shap.plots._waterfall.waterfall_legacy(explainer.expected_value, shap_values[3], features=X_train.iloc[3,:], feature_names=X_train.columns)\n",
        "\n",
        "# Force plot - 多筆與單筆\n",
        "shap.force_plot(explainer.expected_value, shap_values[:100,:], X_train.iloc[:100,:])  # 多筆\n",
        "shap.force_plot(explainer.expected_value, shap_values[0,:], X_train.iloc[0,:])        # 單筆\n"
      ]
    },
    {
      "cell_type": "code",
      "execution_count": null,
      "metadata": {
        "colab": {
          "background_save": true
        },
        "id": "TizARl4GEenW"
      },
      "outputs": [],
      "source": [
        "batter_features = [\"AB\", \"R\", \"RBI\", \"1B\", \"2B\", \"3B\", \"HR\", \"H\", \"BB\", \"SO\",\n",
        "                   \"SH\", \"SF\", \"AVG\", \"OBP\", \"SLG\", \"OPS\", \"IsoP\", \"G/F\",\n",
        "                   \"wOBA\", \"wRAA\", \"wRC＋\"]\n",
        "\n",
        "for name in batter_features:\n",
        "    shap.dependence_plot(name, shap_values, X_train, interaction_index=name)\n"
      ]
    },
    {
      "cell_type": "code",
      "execution_count": null,
      "metadata": {
        "colab": {
          "background_save": true
        },
        "id": "z4SKvUirEhzg"
      },
      "outputs": [],
      "source": [
        "pitcher_features = [\"BF\", \"NP\", \"Strike\", \"P_H\", \"P_HR\", \"P_BB\", \"P_SO\", \"B/9\",\n",
        "                    \"H/9\", \"K/9\", \"S%\", \"BABIP\", \"WHIP\", \"G/F\", \"NP/IP\", \"PLOB%\"]\n",
        "\n",
        "for name in pitcher_features:\n",
        "    shap.dependence_plot(name, shap_values, X_train, interaction_index=name)\n"
      ]
    },
    {
      "cell_type": "code",
      "execution_count": null,
      "metadata": {
        "colab": {
          "background_save": true
        },
        "id": "vYKlWqUMEkKT"
      },
      "outputs": [],
      "source": [
        "# Decision plot 只針對單一樣本效果較佳\n",
        "shap.decision_plot(explainer.expected_value, shap_values[0],\n",
        "                   features=X_train.iloc[0],\n",
        "                   feature_names=X_train.columns.tolist(),\n",
        "                   title=\"SHAP Decision Plot\")\n"
      ]
    }
  ],
  "metadata": {
    "colab": {
      "provenance": [],
      "include_colab_link": true
    },
    "kernelspec": {
      "display_name": "Python 3",
      "name": "python3"
    },
    "language_info": {
      "name": "python"
    }
  },
  "nbformat": 4,
  "nbformat_minor": 0
}